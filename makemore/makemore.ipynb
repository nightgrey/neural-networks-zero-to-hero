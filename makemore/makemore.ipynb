{
 "cells": [
  {
   "cell_type": "code",
   "execution_count": 1,
   "metadata": {},
   "outputs": [],
   "source": [
    "import csv\n",
    "\n",
    "# Read the file\n",
    "with open('test.csv', 'r') as file:\n",
    "    reader = csv.reader(file)\n",
    "    first_column_data = [row[0] for row in reader]\n",
    "\n",
    "# Write the first column back to the file\n",
    "with open('test.csv', 'w', newline='') as file:\n",
    "    writer = csv.writer(file)\n",
    "    for data in first_column_data:\n",
    "        writer.writerow([data])\n"
   ]
  }
 ],
 "metadata": {
  "kernelspec": {
   "display_name": "intro-to-neural-networks-nm5Moab_-py3.10",
   "language": "python",
   "name": "python3"
  },
  "language_info": {
   "codemirror_mode": {
    "name": "ipython",
    "version": 3
   },
   "file_extension": ".py",
   "mimetype": "text/x-python",
   "name": "python",
   "nbconvert_exporter": "python",
   "pygments_lexer": "ipython3",
   "version": "3.10.9"
  },
  "orig_nbformat": 4
 },
 "nbformat": 4,
 "nbformat_minor": 2
}
